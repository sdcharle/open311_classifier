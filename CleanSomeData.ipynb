{
 "cells": [
  {
   "cell_type": "code",
   "execution_count": 59,
   "metadata": {},
   "outputs": [
    {
     "name": "stdout",
     "output_type": "stream",
     "text": [
      "<class 'pandas.core.frame.DataFrame'>\n",
      "RangeIndex: 92286 entries, 0 to 92285\n",
      "Data columns (total 14 columns):\n",
      "service_request_id      92286 non-null int64\n",
      "requested_datetime      92286 non-null object\n",
      "updated_datetime        92286 non-null object\n",
      "closed_date             92286 non-null object\n",
      "status                  92286 non-null object\n",
      "source                  58419 non-null object\n",
      "revised_service_name    582 non-null object\n",
      "service_name            92286 non-null object\n",
      "service_subtype         0 non-null float64\n",
      "description             84009 non-null object\n",
      "agency_responsible      24915 non-null object\n",
      "address                 86808 non-null object\n",
      "lat                     74468 non-null float64\n",
      "long                    74470 non-null float64\n",
      "dtypes: float64(3), int64(1), object(10)\n",
      "memory usage: 9.9+ MB\n"
     ]
    },
    {
     "name": "stderr",
     "output_type": "stream",
     "text": [
      "/Users/scharlesworth/.pyenv/versions/3.6.3/envs/open-311-env/lib/python3.6/site-packages/IPython/core/interactiveshell.py:2785: DtypeWarning: Columns (6) have mixed types. Specify dtype option on import or set low_memory=False.\n",
      "  interactivity=interactivity, compiler=compiler, result=result)\n"
     ]
    }
   ],
   "source": [
    "#%reset\n",
    "import pandas as pd\n",
    "import numpy as np\n",
    "import os\n",
    "\n",
    "DATA_FOLDER = './data/'\n",
    "reports = pd.read_csv(os.path.join(DATA_FOLDER, 'Open311Data.csv'))\n",
    "reports.info()"
   ]
  },
  {
   "cell_type": "code",
   "execution_count": 74,
   "metadata": {},
   "outputs": [],
   "source": [
    "new_report = reports.copy(deep=False)"
   ]
  },
  {
   "cell_type": "code",
   "execution_count": 98,
   "metadata": {},
   "outputs": [
    {
     "ename": "AttributeError",
     "evalue": "'DataFrame' object has no attribute 'revised_service_name'",
     "output_type": "error",
     "traceback": [
      "\u001b[0;31m---------------------------------------------------------------------------\u001b[0m",
      "\u001b[0;31mAttributeError\u001b[0m                            Traceback (most recent call last)",
      "\u001b[0;32m<ipython-input-98-06312b2e025e>\u001b[0m in \u001b[0;36m<module>\u001b[0;34m()\u001b[0m\n\u001b[0;32m----> 1\u001b[0;31m \u001b[0mm\u001b[0m \u001b[0;34m=\u001b[0m \u001b[0;34m~\u001b[0m\u001b[0mnew_report\u001b[0m\u001b[0;34m.\u001b[0m\u001b[0mrevised_service_name\u001b[0m\u001b[0;34m.\u001b[0m\u001b[0misnull\u001b[0m\u001b[0;34m(\u001b[0m\u001b[0;34m)\u001b[0m\u001b[0;34m\u001b[0m\u001b[0m\n\u001b[0m\u001b[1;32m      2\u001b[0m \u001b[0mm\u001b[0m\u001b[0;34m.\u001b[0m\u001b[0minfo\u001b[0m\u001b[0;34m(\u001b[0m\u001b[0;34m)\u001b[0m\u001b[0;34m\u001b[0m\u001b[0m\n",
      "\u001b[0;32m~/.pyenv/versions/3.6.3/envs/open-311-env/lib/python3.6/site-packages/pandas/core/generic.py\u001b[0m in \u001b[0;36m__getattr__\u001b[0;34m(self, name)\u001b[0m\n\u001b[1;32m   4374\u001b[0m             \u001b[0;32mif\u001b[0m \u001b[0mself\u001b[0m\u001b[0;34m.\u001b[0m\u001b[0m_info_axis\u001b[0m\u001b[0;34m.\u001b[0m\u001b[0m_can_hold_identifiers_and_holds_name\u001b[0m\u001b[0;34m(\u001b[0m\u001b[0mname\u001b[0m\u001b[0;34m)\u001b[0m\u001b[0;34m:\u001b[0m\u001b[0;34m\u001b[0m\u001b[0m\n\u001b[1;32m   4375\u001b[0m                 \u001b[0;32mreturn\u001b[0m \u001b[0mself\u001b[0m\u001b[0;34m[\u001b[0m\u001b[0mname\u001b[0m\u001b[0;34m]\u001b[0m\u001b[0;34m\u001b[0m\u001b[0m\n\u001b[0;32m-> 4376\u001b[0;31m             \u001b[0;32mreturn\u001b[0m \u001b[0mobject\u001b[0m\u001b[0;34m.\u001b[0m\u001b[0m__getattribute__\u001b[0m\u001b[0;34m(\u001b[0m\u001b[0mself\u001b[0m\u001b[0;34m,\u001b[0m \u001b[0mname\u001b[0m\u001b[0;34m)\u001b[0m\u001b[0;34m\u001b[0m\u001b[0m\n\u001b[0m\u001b[1;32m   4377\u001b[0m \u001b[0;34m\u001b[0m\u001b[0m\n\u001b[1;32m   4378\u001b[0m     \u001b[0;32mdef\u001b[0m \u001b[0m__setattr__\u001b[0m\u001b[0;34m(\u001b[0m\u001b[0mself\u001b[0m\u001b[0;34m,\u001b[0m \u001b[0mname\u001b[0m\u001b[0;34m,\u001b[0m \u001b[0mvalue\u001b[0m\u001b[0;34m)\u001b[0m\u001b[0;34m:\u001b[0m\u001b[0;34m\u001b[0m\u001b[0m\n",
      "\u001b[0;31mAttributeError\u001b[0m: 'DataFrame' object has no attribute 'revised_service_name'"
     ]
    }
   ],
   "source": [
    "m = ~new_report.revised_service_name.isnull()\n",
    "m"
   ]
  },
  {
   "cell_type": "code",
   "execution_count": 89,
   "metadata": {},
   "outputs": [],
   "source": [
    "new_report['service_name'] = np.where(m, new_report.revised_service_name, new_report.service_name)"
   ]
  },
  {
   "cell_type": "code",
   "execution_count": 95,
   "metadata": {},
   "outputs": [],
   "source": [
    "new_report = (new_report.drop(['revised_service_name', 'revname'], axis=1))"
   ]
  },
  {
   "cell_type": "code",
   "execution_count": 97,
   "metadata": {},
   "outputs": [],
   "source": [
    "new_report.to_csv('data/Open311DataFixed.csv') # writes index tho, bleah"
   ]
  },
  {
   "cell_type": "code",
   "execution_count": 99,
   "metadata": {},
   "outputs": [
    {
     "name": "stdout",
     "output_type": "stream",
     "text": [
      "<class 'pandas.core.frame.DataFrame'>\n",
      "RangeIndex: 92286 entries, 0 to 92285\n",
      "Data columns (total 13 columns):\n",
      "service_request_id    92286 non-null int64\n",
      "requested_datetime    92286 non-null object\n",
      "updated_datetime      92286 non-null object\n",
      "closed_date           92286 non-null object\n",
      "status                92286 non-null object\n",
      "source                58419 non-null object\n",
      "service_name          92286 non-null object\n",
      "service_subtype       0 non-null float64\n",
      "description           84009 non-null object\n",
      "agency_responsible    24915 non-null object\n",
      "address               86808 non-null object\n",
      "lat                   74468 non-null float64\n",
      "long                  74470 non-null float64\n",
      "dtypes: float64(3), int64(1), object(9)\n",
      "memory usage: 9.2+ MB\n"
     ]
    }
   ],
   "source": [
    "new_report.info()"
   ]
  },
  {
   "cell_type": "code",
   "execution_count": 100,
   "metadata": {},
   "outputs": [
    {
     "name": "stdout",
     "output_type": "stream",
     "text": [
      "<class 'pandas.core.frame.DataFrame'>\n",
      "RangeIndex: 92286 entries, 0 to 92285\n",
      "Data columns (total 14 columns):\n",
      "service_request_id      92286 non-null int64\n",
      "requested_datetime      92286 non-null object\n",
      "updated_datetime        92286 non-null object\n",
      "closed_date             92286 non-null object\n",
      "status                  92286 non-null object\n",
      "source                  58419 non-null object\n",
      "revised_service_name    582 non-null object\n",
      "service_name            92286 non-null object\n",
      "service_subtype         0 non-null float64\n",
      "description             84009 non-null object\n",
      "agency_responsible      24915 non-null object\n",
      "address                 86808 non-null object\n",
      "lat                     74468 non-null float64\n",
      "long                    74470 non-null float64\n",
      "dtypes: float64(3), int64(1), object(10)\n",
      "memory usage: 9.9+ MB\n"
     ]
    }
   ],
   "source": [
    "reports.info()"
   ]
  }
 ],
 "metadata": {
  "kernelspec": {
   "display_name": "open-311-env",
   "language": "python",
   "name": "open-311-env"
  },
  "language_info": {
   "codemirror_mode": {
    "name": "ipython",
    "version": 3
   },
   "file_extension": ".py",
   "mimetype": "text/x-python",
   "name": "python",
   "nbconvert_exporter": "python",
   "pygments_lexer": "ipython3",
   "version": "3.6.3"
  }
 },
 "nbformat": 4,
 "nbformat_minor": 2
}
